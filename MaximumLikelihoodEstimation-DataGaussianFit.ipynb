{
 "cells": [
  {
   "cell_type": "code",
   "execution_count": 21,
   "metadata": {},
   "outputs": [
    {
     "data": {
      "application/javascript": [
       "MathJax.Hub.Config({\n",
       "    TeX: { equationNumbers: { autoNumber: \"AMS\" } }\n",
       "});\n"
      ],
      "text/plain": [
       "<IPython.core.display.Javascript object>"
      ]
     },
     "metadata": {},
     "output_type": "display_data"
    }
   ],
   "source": [
    "%%javascript\n",
    "MathJax.Hub.Config({\n",
    "    TeX: { equationNumbers: { autoNumber: \"AMS\" } }\n",
    "});"
   ]
  },
  {
   "cell_type": "markdown",
   "metadata": {},
   "source": [
    "# Maximum Likelihood Estimate - Example with a Normal Model\n",
    "\n",
    "## Preamble\n",
    "Maximum Likelihood Estimate (MLE) is the frequentist way of performing inference, and is different from a propability distribution in Bayesian inference. In this notebook, a paradigm is provided to show how MLE programmatically works.\n",
    "\n",
    "## Introduction\n",
    "\n",
    "Very often we need to estimate the parameters of a model given a set of observed data. \n",
    "Usually, we fix the model, for example a linear model or a normal distribution, and we use observed data set\n",
    "$X = \\{x_1,\\, x_2,\\, \\ldots x_N\\}$ with $N \\in \\mathbb{Z}^{>0}$ to extract the model's parameters, denoted as $\\mathbf{\\theta}$.\n",
    "\n",
    "But how are the parameters actually being estimated?\n",
    "For example, we can sample a random variable $x$ which we assume to obey to a normal distribution with a certain mean $\\mu$ and variance $\\sigma^2$. Then, our goal is to find estimations of the parameters $\\mu$ and $\\sigma^2$ from the given sata sample which accurately represent the true $x$, not solely the samples we have drawn out.\n",
    "\n",
    "Consider we are performing a gaussian fit to our data, and our model estimates the coefficients for these data $X$\n",
    "on the dependent variable $y$. How can we maximize the likelihood, i.e. the probability, that our estimator $\\hat{\\theta}$ is stemming from the true data $x$? And, once we have the sample value, how do we make sure that it is indeed correct?\n",
    "\n",
    "## Parameters Estimation\n",
    "\n",
    "Let's get started with the Probability Density function (PDF) for the Normal Distribution, \n",
    "\n",
    "\\begin{equation}\n",
    "\\cal{L}(x;\\, \\mu,\\, \\sigma) = \\frac{1}{\\sigma\\sqrt{2\\pi}}e^{-\\frac{1}{2}\\left(\\frac{x-\\mu}{\\sigma}\\right)^2} \\label{eq:gaus}\n",
    "\\end{equation}\n",
    "\n",
    "and dive into some of the maths. The parameter $\\mu$ is the mean or expectation of the distribution (and also its median and mode), while the parameter $\\sigma$  is its standard deviation. The variance of the distribution is $\\sigma^2$. A random variable with a Gaussian distribution is said to be normally distributed, and is called a normal deviate.\n",
    "\n",
    "Equation $\\eqref{eq:gaus}$ is telling us the likelihood $\\cal{L}$ , i.e. the probability, for the random variable $x$ from our same, when the true parameters of the distribution are $\\mu$ and $\\sigma$."
   ]
  },
  {
   "cell_type": "code",
   "execution_count": 3,
   "metadata": {},
   "outputs": [],
   "source": [
    "import itertools\n",
    "import matplotlib.pyplot as plt\n",
    "import numpy as np\n",
    "import scipy.stats as stats\n",
    "import math\n",
    "from scipy.stats import gaussian_kde"
   ]
  },
  {
   "cell_type": "markdown",
   "metadata": {},
   "source": [
    "Let's assume, for example, our data sample is $x=1$, what is the probability it comes from a normal distribution characterized by $\\mu=0$ and $\\sigma=1$?"
   ]
  },
  {
   "cell_type": "code",
   "execution_count": 7,
   "metadata": {},
   "outputs": [
    {
     "data": {
      "text/plain": [
       "0.24197072451914337"
      ]
     },
     "execution_count": 7,
     "metadata": {},
     "output_type": "execute_result"
    }
   ],
   "source": [
    "x=1\n",
    "μ=0\n",
    "σ=1\n",
    "stats.norm.pdf(x, μ, σ)"
   ]
  },
  {
   "cell_type": "code",
   "execution_count": 8,
   "metadata": {},
   "outputs": [
    {
     "data": {
      "text/plain": [
       "0.3989422804014327"
      ]
     },
     "execution_count": 8,
     "metadata": {},
     "output_type": "execute_result"
    }
   ],
   "source": [
    "x=0\n",
    "μ=0\n",
    "σ=1\n",
    "stats.norm.pdf(x, μ, σ)"
   ]
  },
  {
   "cell_type": "markdown",
   "metadata": {},
   "source": [
    "The PDF equation shows, therefore, how likely those data points is to appear in a given distribution with certain parameters. So, it is more likely it came from the second distribution.\n",
    "\n",
    "Let’s assume now we get a bunch samples from $\\{x\\}$, which we a-priori know to come from some normal distribution. Also, we know that all data examples are mutually independent from each other. If this is the case, the total probability of observing all of the uncorrelated data is simply the product of obtaining each data point\n",
    "individually:\n",
    "\n",
    "\\begin{equation}\n",
    "p(x_{i:N};\\, \\mu,\\, \\sigma) = \\prod_i^N p(x_i;\\, \\mu,\\, \\sigma)\n",
    "\\end{equation}\n",
    "\n",
    "For example, we want to calculate the probability of $x =1,\\, -2 $  are drawn from a distribution with $\\mu=0$ and $\\sigma=1$ we obtain:"
   ]
  },
  {
   "cell_type": "code",
   "execution_count": 9,
   "metadata": {},
   "outputs": [
    {
     "data": {
      "text/plain": [
       "0.013064233284684923"
      ]
     },
     "execution_count": 9,
     "metadata": {},
     "output_type": "execute_result"
    }
   ],
   "source": [
    "stats.norm.pdf(1, 0, 1) * stats.norm.pdf(-2, 0, 1) "
   ]
  },
  {
   "cell_type": "markdown",
   "metadata": {},
   "source": [
    "## Likelihood for data samples\n",
    "\n",
    "Consider a random set of data $X = \\{\\ldots\\}$ and different PDFs represented by a normal distributions $\\sim N(\\mu,\\, \\sigma)$. This particular sample could be theoretically drawn from any distribution with parameters $(\\mu,\\, \\sigma)$. But which distributions is more likely to be the true data generator?\n",
    "\n",
    "So, we want to estimate $p(X;\\, \\mu,\\, \\sigma)$; the probability these data points stemm from a normal distribution with $\\theta=(\\mu,\\,\\sigma)$. We can achieve this through maximimzing a likelihood fuction, a method which is also known as Maximum Likelihood Estimation (MLE). This will allow us to specify a distribution of\n",
    "unknown parameters $\\theta$, and then using the available data to pull out the actual values of those unknown parameters.\n",
    "\n",
    "We now want to maximize the likelihood our parameter(s) $\\theta$ coming from a specific PDF. A common technique to facilitate the process further, is to take the logarithm of the likelihood equation. When we take the $\\log$ of the the PDF equation, then we deal with the \"log likelihood\" PDF, shown by the following equation \n",
    "\n",
    "\\begin{equation}\n",
    "\\log {\\cal{L}}(x_i;\\, \\mu,\\,\\sigma) = - \\frac{N}{2}\\log(2\\pi) -N log(\\sigma) - \\frac{1}{2\\sigma^2} \\sum_i^N (x_i - \\mu)^2\n",
    "\\label{eq:llh}\n",
    "\\end{equation}\n",
    "\n",
    "To make things clear, let's define a set of data points for which we want to find a normal distribution that best describes those data."
   ]
  },
  {
   "cell_type": "code",
   "execution_count": 11,
   "metadata": {},
   "outputs": [],
   "source": [
    "X_data = [4,5,7,8,8,9,10,5,2,7,6,3,5,4,8,9,6]"
   ]
  },
  {
   "cell_type": "markdown",
   "metadata": {},
   "source": [
    "Let's also define the parameter space in which we aim to search for that best PDF with the unknown parameters."
   ]
  },
  {
   "cell_type": "code",
   "execution_count": 13,
   "metadata": {},
   "outputs": [],
   "source": [
    "#mean\n",
    "μ_range = np.arange(5.5, 6.5, 0.01).tolist()\n",
    "\n",
    "#standard deviation\n",
    "σ_range = np.arange(2, 3, 0.01).tolist()"
   ]
  },
  {
   "cell_type": "markdown",
   "metadata": {},
   "source": [
    "During the scan in the $\\theta=(\\mu,\\,\\sigma)$ parameter space, we want to collect results of the minimum log-likehood for each of the proposed parameter sets. To keep things organized, we define a class which stores such kind of information. "
   ]
  },
  {
   "cell_type": "code",
   "execution_count": 17,
   "metadata": {},
   "outputs": [],
   "source": [
    "class NLLH:\n",
    "    '''\n",
    "    Class to store and process NLLH results\n",
    "    obtained from a theta parameter space scan\n",
    "    '''\n",
    "    def __init__(self, nllh=None, μ=None, σ=None):\n",
    "        self.__nllh = nllh\n",
    "        self.__μ = μ\n",
    "        self.__σ = σ\n",
    "        self.__Σ_nllh = sum(nllh)\n",
    "        self.__quality = self.__check()\n",
    "        self.__n_points = len(nllh)\n",
    "        self.__label = '$\\mu$=%.2f $\\sigma$=%.2f'%(μ, σ)\n",
    "        self.__best = False\n",
    "        self.__alpha = 0.2\n",
    "\n",
    "    def __str__(self):\n",
    "        return f'NLLH: {self.__Σ_nllh} μ: {self.__μ} σ: {self.__σ}'\n",
    "\n",
    "    def __check(self):\n",
    "        if math.isnan(self.__Σ_nllh) or math.isinf(self.__Σ_nllh):\n",
    "            return False\n",
    "        return True\n",
    "\n",
    "    def ok(self):\n",
    "        return self.__quality\n",
    "    \n",
    "    @property\n",
    "    def nllh(self):\n",
    "        return self.__nllh\n",
    "\n",
    "    @property\n",
    "    def μ(self):\n",
    "        return self.__μ\n",
    "\n",
    "    @property\n",
    "    def σ(self):\n",
    "        return self.__σ\n",
    "    \n",
    "    @property\n",
    "    def Σ_nllh(self):\n",
    "        return self.__Σ_nllh\n",
    "\n",
    "    @property\n",
    "    def n_points(self):\n",
    "        return self.__n_points\n",
    "\n",
    "    @property\n",
    "    def label(self):\n",
    "        return self.__label\n",
    "\n",
    "    @property\n",
    "    def best(self):\n",
    "        return self.__best\n",
    "\n",
    "    @best.setter\n",
    "    def best(self, x):\n",
    "        self.__best = x\n",
    "        self.__label = self.__label.\\\n",
    "            replace('\\mu', '\\hat{\\mu}').\\\n",
    "            replace('\\sigma', '\\hat{\\sigma}')\\\n",
    "            + ' (best)'\n",
    "\n",
    "    @property\n",
    "    def alpha(self):\n",
    "        return self.__alpha"
   ]
  },
  {
   "cell_type": "markdown",
   "metadata": {},
   "source": [
    "Next, we define the parameter space on which we will iterate and estimate the Log-Likelihood for the given random data points we started with."
   ]
  },
  {
   "cell_type": "code",
   "execution_count": 16,
   "metadata": {},
   "outputs": [],
   "source": [
    "# parameter space\n",
    "μ_range = np.arange(5.5, 6.5, 0.01).tolist()\n",
    "σ_range = np.arange(2, 3, 0.01).tolist()"
   ]
  },
  {
   "cell_type": "markdown",
   "metadata": {},
   "source": [
    "Now we are ready to perform a 2D iterative process over the $\\theta=(\\mu,\\,\\sigma)$. In each iteration, we store the result of the negative log-likelihood (NLLH). Since we decided to invert the sign of the LLH for practical reasons, we aim now to find the values of the unknown parameters $\\theta$ that minimize this quantity."
   ]
  },
  {
   "cell_type": "code",
   "execution_count": 19,
   "metadata": {},
   "outputs": [],
   "source": [
    "#list keeping the NLLH of each set of parameters\n",
    "nllh_results = []\n",
    "\n",
    "#parameter scan and NLLH estimate\n",
    "for μ, σ in itertools.product(μ_range, σ_range):\n",
    "    #print(f'scanning {μ} {σ}')\n",
    "    temp_nllh = []\n",
    "    for x in X_data:\n",
    "        pdf = stats.norm.pdf(x, μ, σ)\n",
    "        if pdf > 0:\n",
    "            temp_nllh.append(-np.log(pdf))\n",
    "\n",
    "    #keep the NLLH for this μ, σ\n",
    "    nllh_results.append( NLLH(nllh=temp_nllh, μ=μ, σ=σ) )"
   ]
  },
  {
   "cell_type": "markdown",
   "metadata": {},
   "source": [
    "Sort the results obtained for each $\\theta$ hypothesis by $-\\log\\mathcal{L}$."
   ]
  },
  {
   "cell_type": "code",
   "execution_count": 20,
   "metadata": {},
   "outputs": [
    {
     "name": "stdout",
     "output_type": "stream",
     "text": [
      "Scanned points 10000\n",
      "Data size 17, NLLH size 17\n",
      "Best model from MLE NLLH: 37.605847832169104 μ: 6.239999999999984 σ: 2.2099999999999955\n"
     ]
    }
   ],
   "source": [
    "#sort\n",
    "nllh_results.sort(key=lambda x: x.Σ_nllh, reverse=False)\n",
    "\n",
    "#the first result should be the minimum NLLH \n",
    "nllh_results[0].best = True\n",
    "\n",
    "print('Scanned points', len(nllh_results))\n",
    "print(\"Data size %i, NLLH size %i\"%(len(X_data), nllh_results[0].n_points))\n",
    "print('Best model from MLE', nllh_results[0])"
   ]
  },
  {
   "cell_type": "markdown",
   "metadata": {},
   "source": [
    "This is how the problem is approached numerically. But does, in addition, an analytical solution exit? The answer is 'yes'. In this case, we seek to maximize our equation with respect to each of our parameters and thus we need to take the first derivative of $\\eqref{eq:llh}$ and set the equation to zero.  \n",
    "\n",
    "\\begin{equation}\n",
    "\\frac{\\partial}{\\partial \\mu} \\log {\\cal{L}}(x_i;\\, \\mu,\\,\\sigma) = 0 \\\\\n",
    "\\Rightarrow \\sum_i^N (x_i - \\mu) = 0 \\\\\n",
    "\\Rightarrow \\hat{\\mu} = \\frac{1}{N} \\sum_i^N x_i\n",
    "\\end{equation}\n",
    "\n",
    "\n",
    "The second derivative can be shown that is always positive, meaning that the extremum respresents indeed a local minimum. The partial derivative of $-\\log\\mathcal{L}$ according to the other parameter, $\\sigma$, is\n",
    "\n",
    "\\begin{equation}\n",
    "\\frac{\\partial}{\\partial \\mu} \\log {\\cal{L}}(x_i;\\, \\mu,\\,\\sigma) = 0 \\\\\n",
    "\\Rightarrow - \\frac{N}{\\sigma} + \\frac{1}{\\sigma^3} \\sum_i^N (x_i - \\mu) = 0 \\\\\n",
    "\\Rightarrow \\hat{\\sigma}^2 = \\frac{1}{N} \\sum_i^N (x_i - \\mu)^2\n",
    "\\end{equation}\n",
    "\n",
    "\n",
    "These are the ML estimators $\\hat{\\theta}$ of the mean $\\mu$ and the standard deviation $\\sigma$ (or variance, $\\sigma^2$) whose values maximize the log-likelihood function, or, equivalently, minimize the negative log-likelihood function.\n",
    "\n",
    "Now we know how to estimate both these parameters from the data observations we have."
   ]
  },
  {
   "cell_type": "code",
   "execution_count": 23,
   "metadata": {},
   "outputs": [
    {
     "name": "stdout",
     "output_type": "stream",
     "text": [
      "Best model from derivative equations: μ=6.24 σ=2.21\n"
     ]
    }
   ],
   "source": [
    "#Best model from first order of derivatives to get estimates\n",
    "θ_μ = sum(X_data)/len(X_data)\n",
    "θ_σ = 0\n",
    "for x in X_data:\n",
    "    θ_σ += (x-θ_μ)**2\n",
    "θ_σ = (θ_σ/len(X_data))**0.5\n",
    "print(\"Best model from derivative equations: μ=%.2f σ=%.2f\"%(θ_μ, θ_σ))"
   ]
  },
  {
   "cell_type": "markdown",
   "metadata": {},
   "source": [
    "We can also verify these with the standard mean and standard devieation functions in numpy."
   ]
  },
  {
   "cell_type": "code",
   "execution_count": 25,
   "metadata": {},
   "outputs": [
    {
     "name": "stdout",
     "output_type": "stream",
     "text": [
      "Best model from numpy: μ=6.24 σ=2.21\n"
     ]
    }
   ],
   "source": [
    "#numpy\n",
    "print(\"Best model from numpy: μ=%.2f σ=%.2f\"%(np.mean(X_data), np.std(X_data)))"
   ]
  },
  {
   "cell_type": "markdown",
   "metadata": {},
   "source": [
    "Coming up next is the visualization of the NLLH results we obtained during the iterative procedure. We will plot the NLLH curves for the top three results as well as for the $N/2$th and the last one."
   ]
  },
  {
   "cell_type": "code",
   "execution_count": 28,
   "metadata": {},
   "outputs": [
    {
     "data": {
      "text/plain": [
       "<matplotlib.legend.Legend at 0x7f6f43c94670>"
      ]
     },
     "execution_count": 28,
     "metadata": {},
     "output_type": "execute_result"
    },
    {
     "data": {
      "image/png": "[encoded data removed]",
      "text/plain": [
       "<Figure size 864x576 with 1 Axes>"
      ]
     },
     "metadata": {
      "needs_background": "light"
     },
     "output_type": "display_data"
    }
   ],
   "source": [
    "#plot N top\n",
    "Ntop = 3\n",
    "fig, ax = plt.subplots(figsize = (12,8))\n",
    "fig.suptitle('Negative Log-Likelihood', fontsize=20)\n",
    "plt.xlabel('Data', fontsize=18)\n",
    "plt.ylabel('-log(L)', fontsize=16)\n",
    "\n",
    "\n",
    "best_color = ''\n",
    "for i, p in enumerate(nllh_results[:Ntop]):\n",
    "    path_collection = ax.scatter(X_data,\n",
    "                                 p.nllh,\n",
    "                                 alpha=p.alpha,\n",
    "                                 label=p.label,\n",
    "                                 marker='.' if i else 'o')\n",
    "    if not i:\n",
    "        best_color = path_collection.get_facecolor()[0]\n",
    "\n",
    "#best_color = plt.gca().lines[0].get_color()\n",
    "\n",
    "#plot also  middle and last\n",
    "middle_idx=int(len(nllh_results)/2)\n",
    "\n",
    "ax.scatter(X_data,\n",
    "           nllh_results[middle_idx].nllh,\n",
    "           alpha=nllh_results[middle_idx].alpha,\n",
    "           label=nllh_results[middle_idx].label,\n",
    "           marker='.')\n",
    "ax.scatter(X_data,\n",
    "           nllh_results[-1].nllh,\n",
    "           alpha=nllh_results[-1].alpha,\n",
    "           label=nllh_results[-1].label,\n",
    "           marker='.')\n",
    "\n",
    "#draw line for the best model\n",
    "from scipy.optimize import curve_fit\n",
    "\n",
    "# define the true objective function\n",
    "def parabola(x, a, b, c):\n",
    "    #intentionally set b=0\n",
    "    #b=0\n",
    "    return a + b*x + c*x**2\n",
    "\n",
    "# curve fit\n",
    "popt, _ = curve_fit(parabola, X_data, nllh_results[0].nllh)\n",
    "\n",
    "# summarize the parameter values\n",
    "a, b, c = popt\n",
    "\n",
    "# define a sequence of inputs between the smallest and largest known inputs\n",
    "dx = 0.1\n",
    "x_line = np.arange(min(X_data), max(X_data), dx)\n",
    "\n",
    "# calculate the output for the range\n",
    "y_line = parabola(x_line, a, b, c)\n",
    "\n",
    "# create a line plot for the mapping function\n",
    "plt.plot(x_line, y_line, '-', color=best_color, label='best model (fit)')\n",
    "\n",
    "\n",
    "ax.legend(loc=\"upper center\")"
   ]
  },
  {
   "cell_type": "markdown",
   "metadata": {},
   "source": [
    "Each of the scattered data set represents a different likelihood function for different values of $\\mu$ and $\\sigma$ and is centered roughly around the the same minimum. The best estimate corresponds to the case with $\\hat{\\mu}=6.24$ and $\\hat{\\sigma}=2.21$ and is illustrated by the big markers connected with a parabola. So, our data are more likely to originate from a normal distribution with those parameter values.\n",
    "\n",
    "With that said, we can now plot our input data and overlay our PDF function to intuitively view how it fits them."
   ]
  },
  {
   "cell_type": "code",
   "execution_count": 31,
   "metadata": {},
   "outputs": [
    {
     "data": {
      "text/plain": [
       "<matplotlib.legend.Legend at 0x7f6f435f1d90>"
      ]
     },
     "execution_count": 31,
     "metadata": {},
     "output_type": "execute_result"
    },
    {
     "data": {
      "image/png": "[encoded data removed]",
      "text/plain": [
       "<Figure size 864x576 with 1 Axes>"
      ]
     },
     "metadata": {
      "needs_background": "light"
     },
     "output_type": "display_data"
    }
   ],
   "source": [
    "def xs(μ, σ):\n",
    "    return np.linspace(μ - 3*σ, μ + 3*σ, 100)\n",
    "\n",
    "def gauss(μ, σ):\n",
    "    x = xs(μ, σ)\n",
    "    plt.plot(x, stats.norm.pdf(x, μ, σ), label=f'$\\mu$={μ:.2f}, $\\sigma$={σ:.2f}')\n",
    "\n",
    "\n",
    "# plot best with data\n",
    "fig, ax = plt.subplots(figsize = (12,8))\n",
    "X_weights = np.ones_like(X_data) / len(X_data)\n",
    "ax.hist(X_data, weights=X_weights, label='input data', alpha=0.5)\n",
    "gauss(nllh_results[0].μ, nllh_results[0].σ)\n",
    "\n",
    "ax.legend(loc=\"upper right\")"
   ]
  },
  {
   "cell_type": "markdown",
   "metadata": {},
   "source": [
    "## Synopsis\n",
    "\n",
    "Maximum likelihood estimation (MLE) is an elegant estimation method that allows to use a sample to estimate the parameters of the probability distribution that generated the sample.\n",
    "\n",
    "A maximum likelihood estimator $\\widehat{\\theta}$ of $\\theta_{0}$ is obtained as a solution of a maximization problem:\n",
    "\n",
    "\\begin{equation}\n",
    "\\widehat{\\theta} = \\underset{\\theta\\; \\in\\; \\Theta}{\\arg \\max} \\cal{L}(x;\\,\\theta)\n",
    "\\end{equation}\n",
    "\n",
    "where $\\Theta$ is a set of of real vectors (called the parameter space) whose elements (called parameters) are put into correspondence with the possible distributions of $x_i$.\n",
    " \n",
    "In other words, $\\widehat{\\theta}$ is the parameter that maximizes the likelihood of the sample $x_i$. \n",
    "$\\widehat{\\theta}$ is called the maximum likelihood estimator of $\\theta$.\n",
    "\n",
    "The  estimator can be obtained as a solution of the above equation, i.e. by maximizing the logarithm of the likelihood function, the log-likelihood. Solving this problem is equivalent to solving the original one, because the logarithm is a strictly increasing function.\n",
    "\n",
    "In some cases, the maximum likelihood problem has an analytical solution. \n",
    "That is, it is possible to write the maximum likelihood estimator $\\widehat{\\theta}$ explicitly as a function of the data. \n",
    "However, in many cases there is no explicit solution. \n",
    "In these cases, numerical optimization algorithms are used to maximize the log-likelihood, \n",
    "or minimize the negative log-likelihood. "
   ]
  },
  {
   "cell_type": "code",
   "execution_count": null,
   "metadata": {},
   "outputs": [],
   "source": []
  }
 ],
 "metadata": {
  "kernelspec": {
   "display_name": "Python 3",
   "language": "python",
   "name": "python3"
  },
  "language_info": {
   "codemirror_mode": {
    "name": "ipython",
    "version": 3
   },
   "file_extension": ".py",
   "mimetype": "text/x-python",
   "name": "python",
   "nbconvert_exporter": "python",
   "pygments_lexer": "ipython3",
   "version": "3.8.5"
  }
 },
 "nbformat": 4,
 "nbformat_minor": 4
}
